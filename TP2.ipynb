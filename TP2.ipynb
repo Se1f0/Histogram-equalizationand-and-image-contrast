{
 "cells": [
  {
   "cell_type": "markdown",
   "metadata": {},
   "source": [
    "# TP à rendre 2 Egalisation d'histogradmes\n",
    "Dans ce TP, nous aimerions améliorer le contraste d'images par deux méthodes. Une méthode d'expansion de la dynamique, et une méthode d'égalisaton d'histogramme. La première image à traiter est dans un fichier npy à loader. Le reste des images sont dans le même dossier. "
   ]
  },
  {
   "cell_type": "code",
   "execution_count": 36,
   "metadata": {},
   "outputs": [],
   "source": [
    "import numpy as np\n",
    "import cv2\n",
    "import matplotlib.pyplot as plt\n",
    "import math"
   ]
  },
  {
   "cell_type": "markdown",
   "metadata": {},
   "source": [
    "# Lire et afficher l'image à utiliser"
   ]
  },
  {
   "cell_type": "code",
   "execution_count": null,
   "metadata": {},
   "outputs": [],
   "source": [
    "image = np.genfromtxt('image.csv', delimiter=';')\n"
   ]
  },
  {
   "cell_type": "code",
   "execution_count": null,
   "metadata": {},
   "outputs": [],
   "source": [
    "plt.imshow(image,cmap='gray')"
   ]
  },
  {
   "cell_type": "markdown",
   "metadata": {},
   "source": [
    "# Calculer les métriques sur l'image\n",
    "1.\tCalculer la moyenne de luminance de l’image.\n",
    "2.\tDonner la dynamique de l’image (intervalle [Lmin, Lmax]).\n",
    "3.\tCalculer le contraste de l’image.\n",
    "4.\tCalculer l’écart type des niveaux de gris de l’image.\n"
   ]
  },
  {
   "cell_type": "code",
   "execution_count": null,
   "metadata": {},
   "outputs": [],
   "source": [
    "def Metriques(image) :\n",
    "    #moyenne luminance \n",
    "    moy_lum = 0\n",
    "    for l in image :\n",
    "        for p in l :\n",
    "            moy_lum += p\n",
    "    moy_lum /= (len(image)*len(image[0]))\n",
    "    \n",
    "\n",
    "    #dynamique de l'image\n",
    "    Lmin = np.amin(image)\n",
    "    Lmax = np.amax(image)\n",
    "    \n",
    "\n",
    "    #contraste\n",
    "    \n",
    "    contraste = (Lmax - Lmin) / (Lmax + Lmin)\n",
    "\n",
    "    #L'écart type des niveaux de gris\n",
    "    ecart_type=0\n",
    "    for l in image :\n",
    "        for p in l :\n",
    "            ecart_type += (p - moy_lum)**2\n",
    "\n",
    "    ecart_type /= (len(image)*len(image[0]))\n",
    "    ecart_type = ecart_type**(1/2)\n",
    "    return moy_lum,Lmin,Lmax,contraste,ecart_type\n",
    "\n",
    "moy_lum,Lmin,Lmax,contraste,ecart_type=Metriques(image)\n",
    "print(\"La moyenne de luminance = \" + str(moy_lum)) \n",
    "print(\"La dynamique de l'image [\"+str(Lmin)+\",\"+str(Lmax)+\"]\")   \n",
    "print(\"Le contraste : \" + str(contraste))\n",
    "print(\"L'ecart type : \" + str(ecart_type))"
   ]
  },
  {
   "cell_type": "markdown",
   "metadata": {},
   "source": [
    "# Histogramme et histogramme cumulé\n",
    "5.\tConstruire l’histogramme de cette image ainsi que son histogramme normalisé.\n",
    "6.\tConstruire l’histogramme cumulé de cette image ainsi que son histogramme cumulé normalisé.\n"
   ]
  },
  {
   "cell_type": "code",
   "execution_count": null,
   "metadata": {},
   "outputs": [],
   "source": [
    "#une fonction qui peut generer tous les histogrammes d'une image \n",
    "def GenerateHistograms(image):\n",
    "        \n",
    "        image = image.astype(np.uint8)\n",
    "        #Histogramme \n",
    "        hist_x=np.arange(256)\n",
    "        hist_y=np.bincount(image.flatten(), minlength=256)\n",
    "\n",
    "        #Histogramme Normlisé\n",
    "        hist_n_y=[x/(len(image)*len(image[0])) for x in hist_y]\n",
    "\n",
    "        #Histogramme cummulé\n",
    "        hist_c_y=[hist_y[0]]\n",
    "        for i in range(1,len(hist_y)) :\n",
    "                hist_c_y.append(hist_c_y[i-1] + hist_y[i])          \n",
    "\n",
    "        #Histogramme cummulé normalisé\n",
    "        hist_cn_y=[x/(len(image)*len(image[0])) for x in hist_c_y]\n",
    "\n",
    "        return hist_x,hist_y,hist_n_y,hist_c_y,hist_cn_y   \n",
    "\n",
    "\n",
    "hist_x,hist_y,hist_n_y,hist_c_y,hist_cn_y=GenerateHistograms(image)   \n",
    "\n",
    "plt.bar(hist_x, hist_y, color ='red',width = 0.4)\n",
    "plt.xlabel(\"Niveau de gris\")\n",
    "plt.ylabel(\"N° occurence\")\n",
    "plt.title(\"Histogramme\")\n",
    "plt.show()\n",
    "\n",
    "plt.bar(hist_x,hist_n_y, color ='blue',width = 0.4)\n",
    "plt.xlabel(\"Niveau de gris\")\n",
    "plt.ylabel(\"N° occurence\")\n",
    "plt.title(\"Histogramme Normalisé\")\n",
    "plt.show()\n",
    "\n",
    "\n",
    "plt.bar(hist_x,hist_c_y, color ='green',width = 0.4)\n",
    "plt.xlabel(\"Niveau de gris\")\n",
    "plt.ylabel(\"N° occurence\")\n",
    "plt.title(\"Histogramme cummulé\")\n",
    "plt.show()\n",
    "\n",
    "print(hist_cn_y)\n",
    "plt.bar(hist_x,hist_cn_y, color ='orange',width = 0.4)\n",
    "plt.xlabel(\"Niveau de gris\")\n",
    "plt.ylabel(\"N° occurence\")\n",
    "plt.title(\"Histogramme cummulé Normalisé\")\n",
    "plt.show()\n"
   ]
  },
  {
   "cell_type": "markdown",
   "metadata": {},
   "source": [
    "# Comparer votre implémentation aux fonctions de opencv"
   ]
  },
  {
   "cell_type": "code",
   "execution_count": null,
   "metadata": {},
   "outputs": [],
   "source": [
    "\n",
    "\n",
    "#l'implementation précedente\n",
    "plt.bar(hist_x, hist_y, color ='red',width = 0.7)\n",
    "plt.xlabel(\"Niveau de gris\")\n",
    "plt.ylabel(\"N° occurence\")\n",
    "plt.title(\"l'implementation précedente \")\n",
    "plt.show()\n",
    "\n",
    "#cv2.calcHist\n",
    "image=image.astype(np.uint8)\n",
    "calchist_y=cv2.calcHist([image],[0],None,[256],[0,256])\n",
    "calchist_y=calchist_y.astype(np.uint8)\n",
    "calchist_y=calchist_y.reshape(-1)\n",
    "\n",
    "plt.bar(np.arange(0,256),calchist_y, color ='orange',width = 0.7)\n",
    "plt.xlabel(\"Niveau de gris\")\n",
    "plt.ylabel(\"N° occurence\")\n",
    "plt.title(\"cv2.calcHist\")\n",
    "plt.show()\n",
    "\n",
    "\"\"\"\n",
    "la différence entre notre implémentation et la fonction \n",
    "cv2.calcHist est dans l'échelle sur l'axe des x,\n",
    "calcHist a traité toutes les valeurs de niveaux de gris de 0 à 255\n",
    "\"\"\"\n",
    "\n",
    "#plt.hist\n",
    "plt.hist(image.reshape(-1),256,[0,256])\n",
    "plt.xlabel(\"Niveau de gris\")\n",
    "plt.ylabel(\"N° occurence\")\n",
    "plt.title(\"plt.hist \")\n",
    "plt.show()\n",
    "\n"
   ]
  },
  {
   "cell_type": "markdown",
   "metadata": {},
   "source": [
    "- Expliquer la difference.\n",
    "- comparer aussi avec les méthodes des autres librairies."
   ]
  },
  {
   "cell_type": "markdown",
   "metadata": {},
   "source": [
    "# 7.\tEtendre l’histogramme et visualiser l’image résultante."
   ]
  },
  {
   "cell_type": "code",
   "execution_count": null,
   "metadata": {},
   "outputs": [],
   "source": [
    "\"\"\"Une fonction pour etendre l'histogramme et construire la nouvelle image\"\"\"\n",
    "def AmeliorationContraste(image,hist_cn_y):\n",
    "   \n",
    "    #L'égalisation d'histogramme\n",
    "    hist_eg_y=[x*255 for x in hist_cn_y]\n",
    "    \n",
    "    #L'image resultante\n",
    "    image2=np.zeros([len(image),len(image[0])],dtype=np.uint8)\n",
    "    for i in range(len(image)) :\n",
    "        for j in range(len(image[0])) :\n",
    "                image2[i,j]=hist_eg_y[image[i,j]]\n",
    "                \n",
    "    return  hist_eg_y,image2 \n",
    "\n",
    "hist_eg_y,image2=AmeliorationContraste(image,hist_cn_y)\n",
    "print(image2)\n",
    "plt.bar(hist_x,hist_eg_y, color ='orange',width = 0.4)\n",
    "plt.xlabel(\"Niveau de gris\")\n",
    "plt.ylabel(\"N° occurence\")\n",
    "plt.title(\"Histogramme égalisé\")\n",
    "plt.show()\n",
    "\n",
    "\n",
    "plt.imshow(image,cmap='gray')\n",
    "plt.show()\n",
    "plt.imshow(image2,cmap='gray')\n",
    "plt.show()\n"
   ]
  },
  {
   "cell_type": "markdown",
   "metadata": {},
   "source": [
    "# 8.\tComparer les histogrammes des deux images ; originale et étendue"
   ]
  },
  {
   "cell_type": "code",
   "execution_count": null,
   "metadata": {},
   "outputs": [],
   "source": [
    "#Histogramme\n",
    "plt.bar(hist_x, hist_y, color ='red',width = 0.5)\n",
    "plt.xlabel(\"Niveau de gris\")\n",
    "plt.ylabel(\"N° occurence\")\n",
    "plt.title(\"Histogramme\")\n",
    "plt.show()\n",
    "\n",
    "\"\"\"\n",
    "dans l'histogramme etendu en remarque que l'axe y \n",
    "représente les niveaux de gris de la nouvelle image\n",
    "\"\"\"\n",
    "#Histogramme égalisé\n",
    "plt.bar(hist_x,hist_eg_y, color ='orange',width = 0.5)\n",
    "plt.xlabel(\"Niveau de gris\")\n",
    "plt.ylabel(\"N° occurence\")\n",
    "plt.title(\"Histogramme égalisé\")\n",
    "plt.show()\n",
    "\n",
    "\n"
   ]
  },
  {
   "cell_type": "markdown",
   "metadata": {},
   "source": [
    "# Expansion de la dynamique et comparaison avec l'égalisation d'histogramme"
   ]
  },
  {
   "cell_type": "code",
   "execution_count": null,
   "metadata": {},
   "outputs": [],
   "source": [
    "#Expansion de la dynamique\n",
    "def ExpansionDynamique(image,Lmin,Lmax):\n",
    "    image3=np.zeros([len(image),len(image[0])],dtype=np.uint8)\n",
    "    for i in range(len(image)) :\n",
    "        for j in range(len(image[0])) :\n",
    "            image3[i,j]=(255)/(Lmax-Lmin)*(image[i,j]-Lmin)\n",
    "    return image3\n",
    "\n",
    "image3=ExpansionDynamique(image,Lmin,Lmax)\n",
    "print(image3)\n",
    "plt.imshow(image,cmap='gray')\n",
    "plt.show()\n",
    "plt.imshow(image2,cmap='gray')\n",
    "plt.show()\n",
    "plt.imshow(image3,cmap='gray')\n",
    "plt.show()\n"
   ]
  },
  {
   "cell_type": "markdown",
   "metadata": {},
   "source": [
    "# Améliorer le contraste des images données\n",
    "améliorer le contraste des 3 images envoyées avec les méthodes implémentées precedemment."
   ]
  },
  {
   "cell_type": "code",
   "execution_count": null,
   "metadata": {},
   "outputs": [],
   "source": [
    "# image_test1=cv2.imread('Fig0208(a).tif',0)\n",
    "# image_test1=np.asarray(image_test1)\n",
    "# _,Lmin,Lmax,_,_=Metriques(image_test1)\n",
    "# _,_,_,_,hist_cn_y=GenerateHistograms(image_test1)\n",
    "# _,image_test12=AmeliorationContraste(image_test1,hist_cn_y)\n",
    "# image_test13=ExpansionDynamique(image_test1,Lmin,Lmax)\n",
    "\n",
    "# plt.imshow(image_test1,cmap='gray')\n",
    "# plt.show()\n",
    "# plt.imshow(image_test12,cmap='gray')\n",
    "# cv2.imwrite('Fig0208(a)_2.tif',image_test12)\n",
    "# plt.show()\n",
    "# plt.imshow(image_test13,cmap='gray')\n",
    "# cv2.imwrite('Fig0208(a)_3.tif',image_test13)\n",
    "# plt.show()\n",
    "\n",
    "# image_test2=cv2.imread('Fig0210(a).tif',0)\n",
    "# image_test2=np.asarray(image_test2)\n",
    "# _,Lmin,Lmax,_,_=Metriques(image_test2)\n",
    "# _,_,_,_,hist_cn_y=GenerateHistograms(image_test2)\n",
    "# _,image_test22=AmeliorationContraste(image_test2,hist_cn_y)\n",
    "# image_test23=ExpansionDynamique(image_test2,Lmin,Lmax)\n",
    "# plt.imshow(image_test2,cmap='gray')\n",
    "# plt.show()\n",
    "# plt.imshow(image_test22,cmap='gray')\n",
    "# cv2.imwrite('Fig0210(a)_2.tif',image_test22)\n",
    "# plt.show()\n",
    "# plt.imshow(image_test23,cmap='gray')\n",
    "# cv2.imwrite('Fig0210(a)_3.tif',image_test23)\n",
    "# plt.show()\n",
    "\n",
    "\n",
    "# image_test3=cv2.imread('Fig0228(a).tif',0)\n",
    "# image_test3=np.asarray(image_test3)\n",
    "# _,Lmin,Lmax,_,_=Metriques(image_test3)\n",
    "# _,_,_,_,hist_cn_y=GenerateHistograms(image_test3)\n",
    "# _,image_test32=AmeliorationContraste(image_test3,hist_cn_y)\n",
    "# image_test33=ExpansionDynamique(image_test3,Lmin,Lmax)\n",
    "# plt.imshow(image_test3,cmap='gray')\n",
    "# plt.show()\n",
    "# plt.imshow(image_test32,cmap='gray')\n",
    "# cv2.imwrite('Fig0228(a)_2.tif',image_test32)\n",
    "# plt.show()\n",
    "# plt.imshow(image_test33,cmap='gray')\n",
    "# cv2.imwrite('Fig0228(a)_3.tif',image_test33)\n",
    "# plt.show()\n"
   ]
  },
  {
   "cell_type": "markdown",
   "metadata": {},
   "source": [
    "# Gradiant"
   ]
  },
  {
   "cell_type": "code",
   "execution_count": null,
   "metadata": {},
   "outputs": [],
   "source": [
    "image2 = np.genfromtxt('mat.csv', delimiter=';')\n",
    "print(image2)\n",
    "h,w = image2.shape\n",
    "imageG = np.zeros([h,w])\n",
    "imageG=cv2.copyMakeBorder(image2,1,1,1,1,cv2.BORDER_CONSTANT,(0,0,0))\n",
    "\n",
    "#gradient x\n",
    "gx = np.zeros([h,w])\n",
    "for p in range(1,w+1) :\n",
    "    for l in range(1,h+1) :\n",
    "        gx[l-1,p-1] = imageG[l+1,p] - imageG[l,p]\n",
    "print(gx)\n",
    "#gradient y\n",
    "gy = np.zeros([h,w])\n",
    "for l in range(1,h+1) :\n",
    "    for p in range(1,w+1) :\n",
    "        gy[l-1,p-1] = imageG[l,p+1] - imageG[l,p]\n",
    "print(gy)\n",
    "\n",
    "#Mod\n",
    "m = np.zeros([h,w])\n",
    "for l in range(h) :\n",
    "    for p in range(w) :\n",
    "        m[l,p]= math.sqrt( gx[l,p]**2 + gy[l,p]**2 );\n",
    "print(m)\n",
    "#direction\n",
    "d = np.zeros([h,w])\n",
    "for l in range(h) :\n",
    "    for p in range(w) :\n",
    "        d[l,p]= math.degrees(math.atan( gy[l,p] / gx[l,p]));\n",
    "print(d)\n",
    "\n",
    "\n"
   ]
  },
  {
   "cell_type": "markdown",
   "metadata": {},
   "source": [
    "# Binarisation"
   ]
  },
  {
   "cell_type": "code",
   "execution_count": null,
   "metadata": {},
   "outputs": [],
   "source": [
    "seuil = 70\n",
    "imageBin = np.zeros([h,w])\n",
    "for l in range(h) :\n",
    "    for p in range(w) :\n",
    "        imageBin[l,p] = int( m[l,p] > seuil)\n",
    "print(m)\n",
    "print(imageBin)    \n",
    "\n",
    "\n"
   ]
  },
  {
   "cell_type": "markdown",
   "metadata": {},
   "source": [
    "# Dilatation"
   ]
  },
  {
   "cell_type": "code",
   "execution_count": null,
   "metadata": {},
   "outputs": [],
   "source": [
    "#dilatation\n",
    "dil=np.copy(imageBin)\n",
    "for i in range(1,h-1):\n",
    "    for j in range(1,w-1):\n",
    "        k=imageBin[i,j] + imageBin[i-1,j] + imageBin[i+1,j] + imageBin[i,j-1]+ imageBin[i,j+1]\n",
    "        if(k>0):\n",
    "            k=1\n",
    "        dil[i,j]=k    \n",
    "        dil[i-1,j]=k\n",
    "        dil[i+1,j]=k \n",
    "        dil[i,j-1]=k\n",
    "        dil[i,j+1]=k\n",
    "print(imageBin)\n",
    "print(dil)\n",
    "plt.imshow(dil,cmap='gray')\n",
    "    "
   ]
  },
  {
   "cell_type": "markdown",
   "metadata": {},
   "source": [
    "# erosion"
   ]
  },
  {
   "cell_type": "code",
   "execution_count": null,
   "metadata": {},
   "outputs": [],
   "source": [
    "#erosione\n",
    "er=np.copy(imageBin)\n",
    "for i in range(0,h-2):\n",
    "    for j in range(0,w-2):\n",
    "        k=1\n",
    "        for a in range(i,i+3):\n",
    "            for b in range(j,j+3):\n",
    "                 k=k*imageBin[a,b]\n",
    "        for a in range(i,i+3):\n",
    "            for b in range(j,j+3):\n",
    "                er[a,b]=k\n",
    "        \n",
    "print(imageBin)\n",
    "print(er)               \n",
    "        "
   ]
  },
  {
   "cell_type": "markdown",
   "metadata": {},
   "source": [
    "# Prewitt & Sobel"
   ]
  },
  {
   "cell_type": "code",
   "execution_count": null,
   "metadata": {},
   "outputs": [],
   "source": [
    "#prewitt\n",
    "c=1\n",
    "imagepr = np.zeros([h,w])\n",
    "imagepr=cv2.copyMakeBorder(image2,1,1,1,1,cv2.BORDER_CONSTANT,(0,0,0))\n",
    "cx=[[-1,0,1],[-c,0,c],[-1,0,1]]\n",
    "cy=[[-1,-c,-1],[0,0,0],[1,c,1]]\n",
    "\n",
    "prewitt_x=np.zeros([h,w])\n",
    "prewitt_y=np.zeros([h,w])\n",
    "for i in range (1,h+1) :\n",
    "    for j in range(1,w+1):\n",
    "        for ki in range(3):\n",
    "            for kj in range(3):\n",
    "                prewitt_x[i-1,j-1]+=(imagepr[i-1+ki,j-1+kj]*cx[ki][kj])\n",
    "                prewitt_y[i-1,j-1]+=(imagepr[i-1+ki,j-1+kj]*cy[ki][kj])\n",
    "\n",
    "print(prewitt_x)\n",
    "print(prewitt_y)\n",
    "\n",
    "#sobel\n",
    "sobel_x=np.zeros([h,w])\n",
    "sobel_y=np.zeros([h,w])\n",
    "c=2\n",
    "cx=[[-1,0,1],[-c,0,c],[-1,0,1]]\n",
    "cy=[[-1,-c,-1],[0,0,0],[1,c,1]]\n",
    "for i in range (1,h+1) :\n",
    "    for j in range(1,w+1):\n",
    "        for ki in range(3):\n",
    "            for kj in range(3):\n",
    "                sobel_x[i-1,j-1]+=imagepr[i-1+ki,j-1+kj]*cx[ki][kj]\n",
    "                sobel_y[i-1,j-1]+=imagepr[i-1+ki,j-1+kj]*cy[ki][kj]\n",
    "\n",
    "print(sobel_x)\n",
    "print(sobel_y)\n"
   ]
  },
  {
   "cell_type": "markdown",
   "metadata": {},
   "source": [
    "# laplacian"
   ]
  },
  {
   "cell_type": "code",
   "execution_count": null,
   "metadata": {},
   "outputs": [],
   "source": [
    "#laplacian\n",
    "lp_mask=[[0,1,0],[1,-4,1],[0,1,0]]\n",
    "lp=np.zeros([h,w])\n",
    "print(imagepr)\n",
    "for i in range (1,h+1) :\n",
    "    for j in range(1,w+1):\n",
    "        for ki in range(3):\n",
    "            for kj in range(3):\n",
    "                lp[i-1,j-1]+=imagepr[i-1+ki,j-1+kj]*lp_mask[ki][kj]\n",
    "                \n",
    "print(lp)\n",
    "\n"
   ]
  },
  {
   "cell_type": "markdown",
   "metadata": {},
   "source": [
    "# Filtre Moyen"
   ]
  },
  {
   "cell_type": "code",
   "execution_count": 33,
   "metadata": {},
   "outputs": [
    {
     "name": "stdout",
     "output_type": "stream",
     "text": [
      "[[ 11.22222222  18.44444444  40.88888889  81.44444444 102.55555556\n",
      "   96.66666667  74.22222222  45.88888889]\n",
      " [ 27.88888889  45.44444444  87.22222222 146.22222222 182.22222222\n",
      "  157.         124.22222222  70.66666667]\n",
      " [ 50.88888889  78.77777778 136.33333333 187.66666667 233.55555556\n",
      "  182.22222222 150.77777778  77.        ]\n",
      " [ 70.22222222 109.77777778 163.33333333 202.44444444 237.55555556\n",
      "  195.22222222 157.          82.33333333]\n",
      " [ 87.66666667 120.88888889 158.33333333 177.66666667 204.22222222\n",
      "  167.22222222 138.44444444  78.66666667]\n",
      " [100.22222222 125.33333333 131.22222222 117.33333333 131.77777778\n",
      "  112.33333333 117.66666667  78.11111111]\n",
      " [110.11111111 136.66666667 124.44444444  88.55555556  96.66666667\n",
      "   97.11111111 130.88888889  96.22222222]\n",
      " [ 76.          98.55555556  83.11111111  48.55555556  50.33333333\n",
      "   64.77777778  99.44444444  75.11111111]]\n"
     ]
    }
   ],
   "source": [
    "#filtre moyen\n",
    "fm=np.zeros([h,w])\n",
    "for i in range (1,h+1) :\n",
    "    for j in range(1,w+1):\n",
    "        for ki in range(3):\n",
    "            for kj in range(3):\n",
    "                fm[i-1,j-1]+=imagepr[i-1+ki,j-1+kj]\n",
    "        fm[i-1][j-1]/= 9                       \n",
    "print(fm)\n"
   ]
  },
  {
   "cell_type": "markdown",
   "metadata": {},
   "source": [
    "# Filtre gaussien"
   ]
  },
  {
   "cell_type": "code",
   "execution_count": 37,
   "metadata": {},
   "outputs": [
    {
     "ename": "SyntaxError",
     "evalue": "'(' was never closed (Temp/ipykernel_10864/3311187653.py, line 5)",
     "output_type": "error",
     "traceback": [
      "\u001b[1;36m  File \u001b[1;32m\"C:\\Users\\mohre\\AppData\\Local\\Temp/ipykernel_10864/3311187653.py\"\u001b[1;36m, line \u001b[1;32m5\u001b[0m\n\u001b[1;33m    fg[x,y]=1/(2*math.pi*2*(ecrt**2)) * math.exp((-(x**2)-(y**2) ) /(2*(ecrt**2))\u001b[0m\n\u001b[1;37m                                                ^\u001b[0m\n\u001b[1;31mSyntaxError\u001b[0m\u001b[1;31m:\u001b[0m '(' was never closed\n"
     ]
    }
   ],
   "source": [
    "#filtre gaussien \n",
    "_,_,_,_,ecrt=Metriques(image2) \n",
    "fg=np.zeros([h,w])\n",
    "for x in range(h):\n",
    "    for y in range(w):\n",
    "        fg[x,y]=1/(2*math.pi*2*(ecrt**2)) * math.exp((-(x**2)-(y**2) ) /(2*(ecrt**2)))\n",
    "print(fg)        "
   ]
  },
  {
   "cell_type": "markdown",
   "metadata": {},
   "source": [
    "# Consignes\n",
    "Le travail est à remettre par groupe de 4 au maximum [1..4].\n",
    "\n",
    "Le délai est le vendredi à 19h\n"
   ]
  },
  {
   "cell_type": "code",
   "execution_count": null,
   "metadata": {},
   "outputs": [],
   "source": [
    "# bonne chance"
   ]
  }
 ],
 "metadata": {
  "interpreter": {
   "hash": "ad5287288988798d1f5ab68b5dfc87ff5d02fdd76f6e09e0f9f74d8e2c3784d5"
  },
  "kernelspec": {
   "display_name": "Python 3.10.0 64-bit",
   "name": "python3"
  },
  "language_info": {
   "codemirror_mode": {
    "name": "ipython",
    "version": 3
   },
   "file_extension": ".py",
   "mimetype": "text/x-python",
   "name": "python",
   "nbconvert_exporter": "python",
   "pygments_lexer": "ipython3",
   "version": "3.10.0"
  }
 },
 "nbformat": 4,
 "nbformat_minor": 2
}
